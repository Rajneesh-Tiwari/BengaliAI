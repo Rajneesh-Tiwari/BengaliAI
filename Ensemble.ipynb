{
 "cells": [
  {
   "cell_type": "code",
   "execution_count": null,
   "metadata": {},
   "outputs": [],
   "source": [
    "import numpy as np # linear algebra\n",
    "import pandas as pd # data processing, CSV file I/O (e.g. pd.read_csv)\n",
    "import sys\n",
    "import os\n",
    "from sklearn.model_selection import train_test_split"
   ]
  },
  {
   "cell_type": "code",
   "execution_count": null,
   "metadata": {},
   "outputs": [],
   "source": [
    "hengs_path = r'C:\\Users\\Kaggle\\BengaliAI\\hengcodes - NewAttemptseResnext - Cutmix'\n",
    "sys.path.append(hengs_path)"
   ]
  },
  {
   "cell_type": "code",
   "execution_count": null,
   "metadata": {},
   "outputs": [],
   "source": [
    "import os\n",
    "os.environ['CUDA_VISIBLE_DEVICES']='0'\n",
    "\n",
    "from common  import *\n",
    "# from dataset import *\n",
    "from kaggle import *\n",
    "\n",
    "# Stochastic Weight Averaging\n",
    "# simply average the weights ... no bn post refinement\n",
    "# https://pytorch.org/blog/stochastic-weight-averaging-in-pytorch/\n",
    "\n",
    "def run_swa():\n",
    "\n",
    "    # out_dir = \\\n",
    "    #     '/root/share/project/kaggle/2020/grapheme_classification/result/run1/resnet34-large-fold0'\n",
    "    # snapshot = np.array([ 93000, 95000, 97000, 99000])\n",
    "    # swa_name='swa_fold0_no_bn_model'\n",
    "\n",
    "    out_dir = \\\n",
    "        r'C:\\Users\\Kaggle\\BengaliAI\\outputs_seresnext_with_mixup_cutmix_contin_2'\n",
    "    snapshot = np.array([224999,376000,444000,449000 ]) #cyclic learning rate\n",
    "    swa_name='swa_fold0_no_bn_model'\n",
    "\n",
    "\n",
    "    ## --- net ---\n",
    "    num_snapshot = len(snapshot)\n",
    "\n",
    "    swa_state_dict = torch.load(out_dir +'/checkpoint/%08d_model.pth'%(snapshot[0]), map_location=lambda storage, loc: storage)\n",
    "    for k,v in swa_state_dict.items():\n",
    "        swa_state_dict[k] = torch.zeros_like(v)\n",
    "\n",
    "    for iter in snapshot:\n",
    "        checkpoint = out_dir +'/checkpoint/%08d_model.pth'%(iter)\n",
    "        state_dict = torch.load(checkpoint, map_location=lambda storage, loc: storage)\n",
    "        for k,v in state_dict.items():\n",
    "            swa_state_dict[k] += v\n",
    "        #---\n",
    "        print(checkpoint)\n",
    "    print('')\n",
    "\n",
    "    #----\n",
    "    for k,v in swa_state_dict.items():\n",
    "        swa_state_dict[k] /= num_snapshot\n",
    "    torch.save(swa_state_dict,out_dir +'/checkpoint/%s.pth'%swa_name)\n",
    "    #torch.save(swa_state_dict,out_dir +'/checkpoint/swa_fold1_no_bn_model.pth')\n",
    "    print(\"SWA success\")"
   ]
  },
  {
   "cell_type": "code",
   "execution_count": null,
   "metadata": {},
   "outputs": [],
   "source": [
    "run_swa()"
   ]
  }
 ],
 "metadata": {
  "kernelspec": {
   "display_name": "Python 3",
   "language": "python",
   "name": "python3"
  },
  "language_info": {
   "codemirror_mode": {
    "name": "ipython",
    "version": 3
   },
   "file_extension": ".py",
   "mimetype": "text/x-python",
   "name": "python",
   "nbconvert_exporter": "python",
   "pygments_lexer": "ipython3",
   "version": "3.7.4"
  }
 },
 "nbformat": 4,
 "nbformat_minor": 2
}
